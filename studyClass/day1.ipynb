{
 "cells": [
  {
   "cell_type": "code",
   "execution_count": null,
   "id": "eb0ab24e",
   "metadata": {},
   "outputs": [],
   "source": [
    "name = \"jerry\"\n",
    "message = f\"hello,{name.title()}!\"\n",
    "print(message)"
   ]
  },
  {
   "cell_type": "code",
   "execution_count": null,
   "id": "92e1c331",
   "metadata": {},
   "outputs": [],
   "source": [
    "name = \"jerry\"\n",
    "print(name.title())\n",
    "print(name.upper())\n",
    "print(name.lower())"
   ]
  },
  {
   "cell_type": "code",
   "execution_count": null,
   "id": "6fec7334",
   "metadata": {},
   "outputs": [],
   "source": [
    "url = 'https://www.baidu.com'\n",
    "url = url.remove"
   ]
  },
  {
   "cell_type": "code",
   "execution_count": null,
   "id": "e9c1d9c3",
   "metadata": {},
   "outputs": [],
   "source": [
    "data = int(input(\"请输入一个整数！\"))\n",
    "print(\"输入的整数是：%d\" %data)\n",
    "print('%.2f'%data)"
   ]
  },
  {
   "cell_type": "code",
   "execution_count": null,
   "id": "3e42d235",
   "metadata": {},
   "outputs": [],
   "source": [
    "print(\"请输入一个学生的学号、姓名和年龄：\",end=\"\")\n",
    "sno,sname,sage = eval(input())\n",
    "print(\"该学生的学号是:\", sno, \"姓名是：\", sname, \"年龄是：\" ,sage )"
   ]
  },
  {
   "cell_type": "code",
   "execution_count": null,
   "id": "8ac201f0",
   "metadata": {},
   "outputs": [
    {
     "name": "stdout",
     "output_type": "stream",
     "text": [
      "请输入一个学生的学号\n",
      "20\n"
     ]
    }
   ],
   "source": [
    "# 现在要学习如何收集学生的基本信息——第一：一个一个来来\n",
    "print(\"请输入一个学生的学号\")\n",
    "sno = input()\n",
    "print(\"请输入一个学生的姓名\")\n",
    "sname = input()\n",
    "print(\"请输入一个学生的年龄\")\n",
    "sage = input()\n",
    "print(\"这个学生的学号是：\"sno,\"这个学生的姓名是：\"sname,\"这个学生的年龄是：\"sage, )\n"
   ]
  },
  {
   "cell_type": "code",
   "execution_count": null,
   "id": "0f949d00",
   "metadata": {},
   "outputs": [
    {
     "name": "stdout",
     "output_type": "stream",
     "text": [
      "该学生的学号是: 10 姓名是： dfhsdj 年龄是： 30\n"
     ]
    }
   ],
   "source": [
    "# 现在要学习如何收集学生的基本信息——第二种：一次性的来\n",
    "sno,sname,sage = input(\"请输入一个学生的学号、姓名和年龄：\").split()\n",
    "sage = int(sage)\n",
    "print(\"该学生的学号是:\", sno, \"姓名是：\", sname, \"年龄是：\",sage )"
   ]
  },
  {
   "cell_type": "code",
   "execution_count": 10,
   "id": "d8e259b0",
   "metadata": {},
   "outputs": [
    {
     "name": "stdout",
     "output_type": "stream",
     "text": [
      "平均成绩：'20.000'\n"
     ]
    }
   ],
   "source": [
    "# 现在的是统计一个成绩，写出三个成绩 然后求出平均分，小数点保留三位\n",
    "data1, data2, data3 = map(float,input(\"请分别输入三次成绩\").split())\n",
    "avg = (data1 + data2 + data3) /3\n",
    "print(\"平均成绩：'%.3f'\"% avg)"
   ]
  }
 ],
 "metadata": {
  "kernelspec": {
   "display_name": "Python 3",
   "language": "python",
   "name": "python3"
  },
  "language_info": {
   "codemirror_mode": {
    "name": "ipython",
    "version": 3
   },
   "file_extension": ".py",
   "mimetype": "text/x-python",
   "name": "python",
   "nbconvert_exporter": "python",
   "pygments_lexer": "ipython3",
   "version": "3.13.7"
  }
 },
 "nbformat": 4,
 "nbformat_minor": 5
}
